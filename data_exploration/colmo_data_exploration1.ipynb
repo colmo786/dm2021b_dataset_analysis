{
 "cells": [
  {
   "cell_type": "markdown",
   "id": "8b141a6a-b99f-4135-98ff-c62d6b53eea8",
   "metadata": {},
   "source": [
    "# Código de Prueba\n",
    "Objetivo: exploración de datos y aprendizaje del uso de GitHub integrado con Jupyter-labs"
   ]
  },
  {
   "cell_type": "code",
   "execution_count": 4,
   "id": "f0297c65-f93d-4081-aed5-65c8374132cb",
   "metadata": {},
   "outputs": [
    {
     "name": "stderr",
     "output_type": "stream",
     "text": [
      "Loading required package: data.table\n",
      "\n"
     ]
    }
   ],
   "source": [
    "# librerías necesarias\n",
    "# data.table contiene fread()\n",
    "require(\"data.table\")"
   ]
  },
  {
   "cell_type": "code",
   "execution_count": 1,
   "id": "71714091-cf3b-44f8-87c0-de9cdd4f18c2",
   "metadata": {},
   "outputs": [],
   "source": [
    "# Summary statistics https://docs.ropensci.org/skimr/\n",
    "library(skimr)"
   ]
  },
  {
   "cell_type": "code",
   "execution_count": 2,
   "id": "7c97971e-16fa-4f67-bd4a-be1cda7c1737",
   "metadata": {},
   "outputs": [
    {
     "name": "stderr",
     "output_type": "stream",
     "text": [
      "Loading required package: ggcorrplot\n",
      "\n",
      "Loading required package: ggplot2\n",
      "\n"
     ]
    }
   ],
   "source": [
    "# Grafico de matriz de correlacion https://cran.r-project.org/web/packages/ggcorrplot/readme/README.html\n",
    "require(ggcorrplot)"
   ]
  },
  {
   "cell_type": "code",
   "execution_count": 5,
   "id": "e75496ca-ba61-49df-bd56-8cacd4f25cf5",
   "metadata": {},
   "outputs": [],
   "source": [
    "#cargo los datos\n",
    "dataset  <- fread(\"C:\\\\Users\\\\COLMO\\\\data_mining\\\\datasetsOri\\\\paquete_premium_202011.csv\")"
   ]
  },
  {
   "cell_type": "code",
   "execution_count": 7,
   "id": "4e63b46e-d5a0-4ca3-a4fe-a284bba1ca25",
   "metadata": {},
   "outputs": [
    {
     "data": {
      "text/html": [
       "<style>\n",
       ".list-inline {list-style: none; margin:0; padding: 0}\n",
       ".list-inline>li {display: inline-block}\n",
       ".list-inline>li:not(:last-child)::after {content: \"\\00b7\"; padding: 0 .5ex}\n",
       "</style>\n",
       "<ol class=list-inline><li>'data.table'</li><li>'data.frame'</li></ol>\n"
      ],
      "text/latex": [
       "\\begin{enumerate*}\n",
       "\\item 'data.table'\n",
       "\\item 'data.frame'\n",
       "\\end{enumerate*}\n"
      ],
      "text/markdown": [
       "1. 'data.table'\n",
       "2. 'data.frame'\n",
       "\n",
       "\n"
      ],
      "text/plain": [
       "[1] \"data.table\" \"data.frame\""
      ]
     },
     "metadata": {},
     "output_type": "display_data"
    }
   ],
   "source": [
    "# Clase de dataset\n",
    "class(dataset)"
   ]
  },
  {
   "cell_type": "code",
   "execution_count": 9,
   "id": "db995cd2-8f7a-41a3-8802-e3fdea3d39fb",
   "metadata": {},
   "outputs": [
    {
     "data": {
      "text/html": [
       "159"
      ],
      "text/latex": [
       "159"
      ],
      "text/markdown": [
       "159"
      ],
      "text/plain": [
       "[1] 159"
      ]
     },
     "metadata": {},
     "output_type": "display_data"
    }
   ],
   "source": [
    "# Cantidad de columnas\n",
    "ncol(dataset)"
   ]
  },
  {
   "cell_type": "code",
   "execution_count": 10,
   "id": "1ed98050-ceb6-487e-a084-959b6d52797e",
   "metadata": {},
   "outputs": [
    {
     "data": {
      "text/html": [
       "238608"
      ],
      "text/latex": [
       "238608"
      ],
      "text/markdown": [
       "238608"
      ],
      "text/plain": [
       "[1] 238608"
      ]
     },
     "metadata": {},
     "output_type": "display_data"
    }
   ],
   "source": [
    "# Cantidad de registros\n",
    "nrow(dataset)"
   ]
  },
  {
   "cell_type": "code",
   "execution_count": 12,
   "id": "87c49a91-2023-4d1d-9c1f-8ba02444be0f",
   "metadata": {},
   "outputs": [],
   "source": [
    "# Summary es imposible de abarcar\n",
    "#summary(dataset)"
   ]
  },
  {
   "cell_type": "code",
   "execution_count": 14,
   "id": "dd4e068b-a88d-4902-ad15-b074eae9ee54",
   "metadata": {},
   "outputs": [],
   "source": [
    "#skim(data = dataset)"
   ]
  },
  {
   "cell_type": "code",
   "execution_count": null,
   "id": "3d851ff0-2548-46a0-828b-4068390890e5",
   "metadata": {},
   "outputs": [],
   "source": []
  },
  {
   "cell_type": "code",
   "execution_count": null,
   "id": "f0b8169a-e238-4421-86a6-aabab59e75d4",
   "metadata": {},
   "outputs": [],
   "source": []
  }
 ],
 "metadata": {
  "kernelspec": {
   "display_name": "R",
   "language": "R",
   "name": "ir"
  },
  "language_info": {
   "codemirror_mode": "r",
   "file_extension": ".r",
   "mimetype": "text/x-r-source",
   "name": "R",
   "pygments_lexer": "r",
   "version": "4.1.0"
  }
 },
 "nbformat": 4,
 "nbformat_minor": 5
}
