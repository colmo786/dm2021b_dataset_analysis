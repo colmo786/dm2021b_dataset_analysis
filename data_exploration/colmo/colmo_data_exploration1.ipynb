{
 "cells": [
  {
   "cell_type": "markdown",
   "id": "8b141a6a-b99f-4135-98ff-c62d6b53eea8",
   "metadata": {},
   "source": [
    "# Código de Prueba\n",
    "Objetivo: exploración de datos y aprendizaje del uso de GitHub integrado con Jupyter-labs"
   ]
  },
  {
   "cell_type": "code",
   "execution_count": 16,
   "id": "f0297c65-f93d-4081-aed5-65c8374132cb",
   "metadata": {},
   "outputs": [],
   "source": [
    "# librerías necesarias\n",
    "# data.table contiene fread()\n",
    "require(\"data.table\")"
   ]
  },
  {
   "cell_type": "code",
   "execution_count": 17,
   "id": "71714091-cf3b-44f8-87c0-de9cdd4f18c2",
   "metadata": {},
   "outputs": [],
   "source": [
    "# Summary statistics https://docs.ropensci.org/skimr/\n",
    "library(skimr)"
   ]
  },
  {
   "cell_type": "code",
   "execution_count": 18,
   "id": "7c97971e-16fa-4f67-bd4a-be1cda7c1737",
   "metadata": {},
   "outputs": [],
   "source": [
    "# Grafico de matriz de correlacion https://cran.r-project.org/web/packages/ggcorrplot/readme/README.html\n",
    "require(ggcorrplot)"
   ]
  },
  {
   "cell_type": "code",
   "execution_count": 19,
   "id": "e75496ca-ba61-49df-bd56-8cacd4f25cf5",
   "metadata": {},
   "outputs": [],
   "source": [
    "#cargo los datos\n",
    "dataset  <- fread(\"C:\\\\Users\\\\COLMO\\\\data_mining\\\\datasetsOri\\\\paquete_premium_202011.csv\")"
   ]
  },
  {
   "cell_type": "code",
   "execution_count": 20,
   "id": "4e63b46e-d5a0-4ca3-a4fe-a284bba1ca25",
   "metadata": {},
   "outputs": [
    {
     "data": {
      "text/html": [
       "<style>\n",
       ".list-inline {list-style: none; margin:0; padding: 0}\n",
       ".list-inline>li {display: inline-block}\n",
       ".list-inline>li:not(:last-child)::after {content: \"\\00b7\"; padding: 0 .5ex}\n",
       "</style>\n",
       "<ol class=list-inline><li>'data.table'</li><li>'data.frame'</li></ol>\n"
      ],
      "text/latex": [
       "\\begin{enumerate*}\n",
       "\\item 'data.table'\n",
       "\\item 'data.frame'\n",
       "\\end{enumerate*}\n"
      ],
      "text/markdown": [
       "1. 'data.table'\n",
       "2. 'data.frame'\n",
       "\n",
       "\n"
      ],
      "text/plain": [
       "[1] \"data.table\" \"data.frame\""
      ]
     },
     "metadata": {},
     "output_type": "display_data"
    }
   ],
   "source": [
    "# Clase de dataset\n",
    "class(dataset)"
   ]
  },
  {
   "cell_type": "code",
   "execution_count": 21,
   "id": "db995cd2-8f7a-41a3-8802-e3fdea3d39fb",
   "metadata": {},
   "outputs": [
    {
     "data": {
      "text/html": [
       "159"
      ],
      "text/latex": [
       "159"
      ],
      "text/markdown": [
       "159"
      ],
      "text/plain": [
       "[1] 159"
      ]
     },
     "metadata": {},
     "output_type": "display_data"
    }
   ],
   "source": [
    "# Cantidad de columnas\n",
    "ncol(dataset)"
   ]
  },
  {
   "cell_type": "code",
   "execution_count": 22,
   "id": "1ed98050-ceb6-487e-a084-959b6d52797e",
   "metadata": {},
   "outputs": [
    {
     "data": {
      "text/html": [
       "238608"
      ],
      "text/latex": [
       "238608"
      ],
      "text/markdown": [
       "238608"
      ],
      "text/plain": [
       "[1] 238608"
      ]
     },
     "metadata": {},
     "output_type": "display_data"
    }
   ],
   "source": [
    "# Cantidad de registros\n",
    "nrow(dataset)"
   ]
  },
  {
   "cell_type": "code",
   "execution_count": 12,
   "id": "87c49a91-2023-4d1d-9c1f-8ba02444be0f",
   "metadata": {},
   "outputs": [],
   "source": [
    "# Summary es imposible de abarcar\n",
    "#summary(dataset)"
   ]
  },
  {
   "cell_type": "code",
   "execution_count": 14,
   "id": "dd4e068b-a88d-4902-ad15-b074eae9ee54",
   "metadata": {},
   "outputs": [],
   "source": [
    "#skim(data = dataset)"
   ]
  },
  {
   "cell_type": "markdown",
   "id": "91f33653-d5af-4d25-84cf-cab00c027f1f",
   "metadata": {},
   "source": [
    "[R for Data Science](https://r4ds.had.co.nz/exploratory-data-analysis.html)\n",
    "* What type of variation occurs within my variables?\n",
    "> * Varibale Distribution\n",
    "> * Tipical Values\n",
    ">> * Which values are the most common? Why?\n",
    ">> * Which values are rare? Why? Does that match your expectations?\n",
    ">> * Can you see any unusual patterns? What might explain them?\n",
    ">> * Clusters:\n",
    ">>> * How are the observations within each cluster similar to each other?\n",
    ">>> * How are the observations in separate clusters different from each other?\n",
    ">>> * How can you explain or describe the clusters?\n",
    ">>> * Why might the appearance of clusters be misleading?\n",
    "* What type of covariation occurs between my variables?<br>\n",
    "__‘Understanding the dataset’ = Cleansing + Understanding__\n",
    "* Extracting important variables and leaving behind useless variables\n",
    "* Identifying outliers, missing values, or human error\n",
    "* Understanding the relationship(s), or lack of, between variables\n",
    "* Ultimately, maximizing your insights of a dataset and minimizing potential error that may occur later in the process"
   ]
  },
  {
   "cell_type": "code",
   "execution_count": null,
   "id": "65e0da88-e673-42b7-a44b-f76057da3fef",
   "metadata": {},
   "outputs": [],
   "source": [
    "# Visualization and Imputation of Missing Values https://cran.r-project.org/web/packages/VIM/vignettes/VIM.html\n",
    "library(VIM)"
   ]
  },
  {
   "cell_type": "code",
   "execution_count": 23,
   "id": "3d851ff0-2548-46a0-828b-4068390890e5",
   "metadata": {},
   "outputs": [
    {
     "name": "stderr",
     "output_type": "stream",
     "text": [
      "Loading required package: colorspace\n",
      "\n",
      "Loading required package: grid\n",
      "\n",
      "VIM is ready to use.\n",
      "\n",
      "\n",
      "Suggestions and bug-reports can be submitted at: https://github.com/statistikat/VIM/issues\n",
      "\n",
      "\n",
      "Attaching package: 'VIM'\n",
      "\n",
      "\n",
      "The following object is masked from 'package:datasets':\n",
      "\n",
      "    sleep\n",
      "\n",
      "\n",
      "Warning message in plot.aggr(res, ...):\n",
      "\"not enough vertical space to display frequencies (too many combinations)\"\n"
     ]
    },
    {
     "name": "stdout",
     "output_type": "stream",
     "text": [
      "\n",
      " Variables sorted by number of missings: \n",
      "                             Variable  Count\n",
      "                   Master_Finiciomora 237642\n",
      "                     Visa_Finiciomora 232362\n",
      "                Master_mconsumospesos 145128\n",
      "              Master_mconsumosdolares 145128\n",
      "                Master_madelantopesos 145128\n",
      "              Master_madelantodolares 145128\n",
      "                   Master_mpagospesos 145128\n",
      "                 Master_mpagosdolares 145128\n",
      "                 Master_mconsumototal 145128\n",
      "                     Master_cconsumos 145128\n",
      "            Master_cadelantosefectivo 145128\n",
      "                  Visa_mconsumospesos  33272\n",
      "                Visa_mconsumosdolares  33272\n",
      "                  Visa_madelantopesos  33272\n",
      "                Visa_madelantodolares  33272\n",
      "                     Visa_mpagospesos  33272\n",
      "                   Visa_mpagosdolares  33272\n",
      "                   Visa_mconsumototal  33272\n",
      "                       Visa_cconsumos  33272\n",
      "              Visa_cadelantosefectivo  33272\n",
      "                Master_fultimo_cierre  23236\n",
      "                   Master_delinquency  22985\n",
      "                        Master_status  22985\n",
      "          Master_mfinanciacion_limite  22985\n",
      "                  Master_Fvencimiento  22985\n",
      "                   Master_msaldototal  22985\n",
      "                   Master_msaldopesos  22985\n",
      "                 Master_msaldodolares  22985\n",
      "                 Master_mlimitecompra  22985\n",
      "                       Master_mpagado  22985\n",
      "                     Master_fechaalta  22985\n",
      "                   Master_mpagominimo  22985\n",
      "                  Visa_fultimo_cierre  10356\n",
      "                     Visa_delinquency  10194\n",
      "                          Visa_status  10194\n",
      "            Visa_mfinanciacion_limite  10194\n",
      "                    Visa_Fvencimiento  10194\n",
      "                     Visa_msaldototal  10194\n",
      "                     Visa_msaldopesos  10194\n",
      "                   Visa_msaldodolares  10194\n",
      "                   Visa_mlimitecompra  10194\n",
      "                         Visa_mpagado  10194\n",
      "                       Visa_fechaalta  10194\n",
      "                     Visa_mpagominimo  10194\n",
      "             mtarjeta_visa_descuentos   4320\n",
      "           mtarjeta_master_descuentos   2251\n",
      "                    numero_de_cliente      0\n",
      "                             foto_mes      0\n",
      "                       active_quarter      0\n",
      "                          cliente_vip      0\n",
      "                             internet      0\n",
      "                         cliente_edad      0\n",
      "                   cliente_antiguedad      0\n",
      "                        mrentabilidad      0\n",
      "                 mrentabilidad_annual      0\n",
      "                          mcomisiones      0\n",
      "                      mactivos_margen      0\n",
      "                      mpasivos_margen      0\n",
      "                           cproductos      0\n",
      "                            tpaquete1      0\n",
      "                            tpaquete2      0\n",
      "                            tpaquete3      0\n",
      "                            tpaquete4      0\n",
      "                             tcuentas      0\n",
      "                    ccuenta_corriente      0\n",
      "          mcuenta_corriente_adicional      0\n",
      "                    mcuenta_corriente      0\n",
      "                         ccaja_ahorro      0\n",
      "                         mcaja_ahorro      0\n",
      "               mcaja_ahorro_adicional      0\n",
      "                 mcaja_ahorro_dolares      0\n",
      "             mdescubierto_preacordado      0\n",
      "                       mcuentas_saldo      0\n",
      "                      ctarjeta_debito      0\n",
      "        ctarjeta_debito_transacciones      0\n",
      "                        mautoservicio      0\n",
      "                        ctarjeta_visa      0\n",
      "          ctarjeta_visa_transacciones      0\n",
      "                mtarjeta_visa_consumo      0\n",
      "                      ctarjeta_master      0\n",
      "        ctarjeta_master_transacciones      0\n",
      "              mtarjeta_master_consumo      0\n",
      "                cprestamos_personales      0\n",
      "                mprestamos_personales      0\n",
      "                cprestamos_prendarios      0\n",
      "                mprestamos_prendarios      0\n",
      "              cprestamos_hipotecarios      0\n",
      "              mprestamos_hipotecarios      0\n",
      "                          cplazo_fijo      0\n",
      "                  mplazo_fijo_dolares      0\n",
      "                    mplazo_fijo_pesos      0\n",
      "                          cinversion1      0\n",
      "                    minversion1_pesos      0\n",
      "                  minversion1_dolares      0\n",
      "                          cinversion2      0\n",
      "                          minversion2      0\n",
      "                         cseguro_vida      0\n",
      "                         cseguro_auto      0\n",
      "                     cseguro_vivienda      0\n",
      "        cseguro_accidentes_personales      0\n",
      "                      ccaja_seguridad      0\n",
      "                         cpayroll_trx      0\n",
      "                             mpayroll      0\n",
      "                            mpayroll2      0\n",
      "                        cpayroll2_trx      0\n",
      "          ccuenta_debitos_automaticos      0\n",
      "          mcuenta_debitos_automaticos      0\n",
      "    ctarjeta_visa_debitos_automaticos      0\n",
      "   mttarjeta_visa_debitos_automaticos      0\n",
      "  ctarjeta_master_debitos_automaticos      0\n",
      " mttarjeta_master_debitos_automaticos      0\n",
      "                     cpagodeservicios      0\n",
      "                     mpagodeservicios      0\n",
      "                      cpagomiscuentas      0\n",
      "                      mpagomiscuentas      0\n",
      "          ccajeros_propios_descuentos      0\n",
      "          mcajeros_propios_descuentos      0\n",
      "             ctarjeta_visa_descuentos      0\n",
      "           ctarjeta_master_descuentos      0\n",
      "            ccomisiones_mantenimiento      0\n",
      "            mcomisiones_mantenimiento      0\n",
      "                    ccomisiones_otras      0\n",
      "                    mcomisiones_otras      0\n",
      "                               cforex      0\n",
      "                           cforex_buy      0\n",
      "                           mforex_buy      0\n",
      "                          cforex_sell      0\n",
      "                          mforex_sell      0\n",
      "            ctransferencias_recibidas      0\n",
      "            mtransferencias_recibidas      0\n",
      "             ctransferencias_emitidas      0\n",
      "             mtransferencias_emitidas      0\n",
      "             cextraccion_autoservicio      0\n",
      "             mextraccion_autoservicio      0\n",
      "                 ccheques_depositados      0\n",
      "                 mcheques_depositados      0\n",
      "                    ccheques_emitidos      0\n",
      "                    mcheques_emitidos      0\n",
      "      ccheques_depositados_rechazados      0\n",
      "      mcheques_depositados_rechazados      0\n",
      "         ccheques_emitidos_rechazados      0\n",
      "         mcheques_emitidos_rechazados      0\n",
      "                          tcallcenter      0\n",
      "            ccallcenter_transacciones      0\n",
      "                         thomebanking      0\n",
      "           chomebanking_transacciones      0\n",
      "                 ccajas_transacciones      0\n",
      "                     ccajas_consultas      0\n",
      "                     ccajas_depositos      0\n",
      "                  ccajas_extracciones      0\n",
      "                         ccajas_otras      0\n",
      "                             catm_trx      0\n",
      "                                 matm      0\n",
      "                       catm_trx_other      0\n",
      "                           matm_other      0\n",
      "                         ctrx_quarter      0\n",
      "                          tmobile_app      0\n",
      "                      cmobile_app_trx      0\n",
      "                       clase_ternaria      0\n"
     ]
    },
    {
     "data": {
      "image/png": "[encoded data removed]",
      "text/plain": [
       "plot without title"
      ]
     },
     "metadata": {
      "image/png": {
       "height": 420,
       "width": 420
      }
     },
     "output_type": "display_data"
    }
   ],
   "source": [
    "# Missing Values\n",
    "# Gráfico para analizar la distribución de datos faltantes en la muestra\n",
    "# The barplot on the left hand side shows the amount of missing/imputed values in each variable.\n",
    "\n",
    "MP_plot_egdata <- aggr(dataset, col=c('Lightblue','Red'),\n",
    "                       numbers=TRUE, prop = FALSE, sortVars=TRUE,\n",
    "                       labels=names(dataset), cex.axis=.9,\n",
    "                       gap=3, ylab=c(\"Number of Missing Data\", \"Combination\"))"
   ]
  },
  {
   "cell_type": "code",
   "execution_count": 27,
   "id": "f0b8169a-e238-4421-86a6-aabab59e75d4",
   "metadata": {},
   "outputs": [
    {
     "data": {
      "text/html": [
       "<style>\n",
       ".list-inline {list-style: none; margin:0; padding: 0}\n",
       ".list-inline>li {display: inline-block}\n",
       ".list-inline>li:not(:last-child)::after {content: \"\\00b7\"; padding: 0 .5ex}\n",
       "</style>\n",
       "<ol class=list-inline><li>'x'</li><li>'combinations'</li><li>'count'</li><li>'percent'</li><li>'missings'</li><li>'tabcomb'</li><li>'imputed'</li></ol>\n"
      ],
      "text/latex": [
       "\\begin{enumerate*}\n",
       "\\item 'x'\n",
       "\\item 'combinations'\n",
       "\\item 'count'\n",
       "\\item 'percent'\n",
       "\\item 'missings'\n",
       "\\item 'tabcomb'\n",
       "\\item 'imputed'\n",
       "\\end{enumerate*}\n"
      ],
      "text/markdown": [
       "1. 'x'\n",
       "2. 'combinations'\n",
       "3. 'count'\n",
       "4. 'percent'\n",
       "5. 'missings'\n",
       "6. 'tabcomb'\n",
       "7. 'imputed'\n",
       "\n",
       "\n"
      ],
      "text/plain": [
       "[1] \"x\"            \"combinations\" \"count\"        \"percent\"      \"missings\"    \n",
       "[6] \"tabcomb\"      \"imputed\"     "
      ]
     },
     "metadata": {},
     "output_type": "display_data"
    }
   ],
   "source": [
    "names(MP_plot_egdata)"
   ]
  },
  {
   "cell_type": "code",
   "execution_count": 51,
   "id": "cdd918a3-91f7-4fff-b01a-3c38dcefe8b9",
   "metadata": {},
   "outputs": [
    {
     "data": {
      "text/html": [
       "<table class=\"dataframe\">\n",
       "<caption>A data.frame: 46 × 2</caption>\n",
       "<thead>\n",
       "\t<tr><th></th><th scope=col>Variable</th><th scope=col>Count</th></tr>\n",
       "\t<tr><th></th><th scope=col>&lt;chr&gt;</th><th scope=col>&lt;int&gt;</th></tr>\n",
       "</thead>\n",
       "<tbody>\n",
       "\t<tr><th scope=row>mtarjeta_visa_descuentos</th><td>mtarjeta_visa_descuentos   </td><td>  4320</td></tr>\n",
       "\t<tr><th scope=row>mtarjeta_master_descuentos</th><td>mtarjeta_master_descuentos </td><td>  2251</td></tr>\n",
       "\t<tr><th scope=row>Master_delinquency</th><td>Master_delinquency         </td><td> 22985</td></tr>\n",
       "\t<tr><th scope=row>Master_status</th><td>Master_status              </td><td> 22985</td></tr>\n",
       "\t<tr><th scope=row>Master_mfinanciacion_limite</th><td>Master_mfinanciacion_limite</td><td> 22985</td></tr>\n",
       "\t<tr><th scope=row>Master_Fvencimiento</th><td>Master_Fvencimiento        </td><td> 22985</td></tr>\n",
       "\t<tr><th scope=row>Master_Finiciomora</th><td>Master_Finiciomora         </td><td>237642</td></tr>\n",
       "\t<tr><th scope=row>Master_msaldototal</th><td>Master_msaldototal         </td><td> 22985</td></tr>\n",
       "\t<tr><th scope=row>Master_msaldopesos</th><td>Master_msaldopesos         </td><td> 22985</td></tr>\n",
       "\t<tr><th scope=row>Master_msaldodolares</th><td>Master_msaldodolares       </td><td> 22985</td></tr>\n",
       "\t<tr><th scope=row>Master_mconsumospesos</th><td>Master_mconsumospesos      </td><td>145128</td></tr>\n",
       "\t<tr><th scope=row>Master_mconsumosdolares</th><td>Master_mconsumosdolares    </td><td>145128</td></tr>\n",
       "\t<tr><th scope=row>Master_mlimitecompra</th><td>Master_mlimitecompra       </td><td> 22985</td></tr>\n",
       "\t<tr><th scope=row>Master_madelantopesos</th><td>Master_madelantopesos      </td><td>145128</td></tr>\n",
       "\t<tr><th scope=row>Master_madelantodolares</th><td>Master_madelantodolares    </td><td>145128</td></tr>\n",
       "\t<tr><th scope=row>Master_fultimo_cierre</th><td>Master_fultimo_cierre      </td><td> 23236</td></tr>\n",
       "\t<tr><th scope=row>Master_mpagado</th><td>Master_mpagado             </td><td> 22985</td></tr>\n",
       "\t<tr><th scope=row>Master_mpagospesos</th><td>Master_mpagospesos         </td><td>145128</td></tr>\n",
       "\t<tr><th scope=row>Master_mpagosdolares</th><td>Master_mpagosdolares       </td><td>145128</td></tr>\n",
       "\t<tr><th scope=row>Master_fechaalta</th><td>Master_fechaalta           </td><td> 22985</td></tr>\n",
       "\t<tr><th scope=row>Master_mconsumototal</th><td>Master_mconsumototal       </td><td>145128</td></tr>\n",
       "\t<tr><th scope=row>Master_cconsumos</th><td>Master_cconsumos           </td><td>145128</td></tr>\n",
       "\t<tr><th scope=row>Master_cadelantosefectivo</th><td>Master_cadelantosefectivo  </td><td>145128</td></tr>\n",
       "\t<tr><th scope=row>Master_mpagominimo</th><td>Master_mpagominimo         </td><td> 22985</td></tr>\n",
       "\t<tr><th scope=row>Visa_delinquency</th><td>Visa_delinquency           </td><td> 10194</td></tr>\n",
       "\t<tr><th scope=row>Visa_status</th><td>Visa_status                </td><td> 10194</td></tr>\n",
       "\t<tr><th scope=row>Visa_mfinanciacion_limite</th><td>Visa_mfinanciacion_limite  </td><td> 10194</td></tr>\n",
       "\t<tr><th scope=row>Visa_Fvencimiento</th><td>Visa_Fvencimiento          </td><td> 10194</td></tr>\n",
       "\t<tr><th scope=row>Visa_Finiciomora</th><td>Visa_Finiciomora           </td><td>232362</td></tr>\n",
       "\t<tr><th scope=row>Visa_msaldototal</th><td>Visa_msaldototal           </td><td> 10194</td></tr>\n",
       "\t<tr><th scope=row>Visa_msaldopesos</th><td>Visa_msaldopesos           </td><td> 10194</td></tr>\n",
       "\t<tr><th scope=row>Visa_msaldodolares</th><td>Visa_msaldodolares         </td><td> 10194</td></tr>\n",
       "\t<tr><th scope=row>Visa_mconsumospesos</th><td>Visa_mconsumospesos        </td><td> 33272</td></tr>\n",
       "\t<tr><th scope=row>Visa_mconsumosdolares</th><td>Visa_mconsumosdolares      </td><td> 33272</td></tr>\n",
       "\t<tr><th scope=row>Visa_mlimitecompra</th><td>Visa_mlimitecompra         </td><td> 10194</td></tr>\n",
       "\t<tr><th scope=row>Visa_madelantopesos</th><td>Visa_madelantopesos        </td><td> 33272</td></tr>\n",
       "\t<tr><th scope=row>Visa_madelantodolares</th><td>Visa_madelantodolares      </td><td> 33272</td></tr>\n",
       "\t<tr><th scope=row>Visa_fultimo_cierre</th><td>Visa_fultimo_cierre        </td><td> 10356</td></tr>\n",
       "\t<tr><th scope=row>Visa_mpagado</th><td>Visa_mpagado               </td><td> 10194</td></tr>\n",
       "\t<tr><th scope=row>Visa_mpagospesos</th><td>Visa_mpagospesos           </td><td> 33272</td></tr>\n",
       "\t<tr><th scope=row>Visa_mpagosdolares</th><td>Visa_mpagosdolares         </td><td> 33272</td></tr>\n",
       "\t<tr><th scope=row>Visa_fechaalta</th><td>Visa_fechaalta             </td><td> 10194</td></tr>\n",
       "\t<tr><th scope=row>Visa_mconsumototal</th><td>Visa_mconsumototal         </td><td> 33272</td></tr>\n",
       "\t<tr><th scope=row>Visa_cconsumos</th><td>Visa_cconsumos             </td><td> 33272</td></tr>\n",
       "\t<tr><th scope=row>Visa_cadelantosefectivo</th><td>Visa_cadelantosefectivo    </td><td> 33272</td></tr>\n",
       "\t<tr><th scope=row>Visa_mpagominimo</th><td>Visa_mpagominimo           </td><td> 10194</td></tr>\n",
       "</tbody>\n",
       "</table>\n"
      ],
      "text/latex": [
       "A data.frame: 46 × 2\n",
       "\\begin{tabular}{r|ll}\n",
       "  & Variable & Count\\\\\n",
       "  & <chr> & <int>\\\\\n",
       "\\hline\n",
       "\tmtarjeta\\_visa\\_descuentos & mtarjeta\\_visa\\_descuentos    &   4320\\\\\n",
       "\tmtarjeta\\_master\\_descuentos & mtarjeta\\_master\\_descuentos  &   2251\\\\\n",
       "\tMaster\\_delinquency & Master\\_delinquency          &  22985\\\\\n",
       "\tMaster\\_status & Master\\_status               &  22985\\\\\n",
       "\tMaster\\_mfinanciacion\\_limite & Master\\_mfinanciacion\\_limite &  22985\\\\\n",
       "\tMaster\\_Fvencimiento & Master\\_Fvencimiento         &  22985\\\\\n",
       "\tMaster\\_Finiciomora & Master\\_Finiciomora          & 237642\\\\\n",
       "\tMaster\\_msaldototal & Master\\_msaldototal          &  22985\\\\\n",
       "\tMaster\\_msaldopesos & Master\\_msaldopesos          &  22985\\\\\n",
       "\tMaster\\_msaldodolares & Master\\_msaldodolares        &  22985\\\\\n",
       "\tMaster\\_mconsumospesos & Master\\_mconsumospesos       & 145128\\\\\n",
       "\tMaster\\_mconsumosdolares & Master\\_mconsumosdolares     & 145128\\\\\n",
       "\tMaster\\_mlimitecompra & Master\\_mlimitecompra        &  22985\\\\\n",
       "\tMaster\\_madelantopesos & Master\\_madelantopesos       & 145128\\\\\n",
       "\tMaster\\_madelantodolares & Master\\_madelantodolares     & 145128\\\\\n",
       "\tMaster\\_fultimo\\_cierre & Master\\_fultimo\\_cierre       &  23236\\\\\n",
       "\tMaster\\_mpagado & Master\\_mpagado              &  22985\\\\\n",
       "\tMaster\\_mpagospesos & Master\\_mpagospesos          & 145128\\\\\n",
       "\tMaster\\_mpagosdolares & Master\\_mpagosdolares        & 145128\\\\\n",
       "\tMaster\\_fechaalta & Master\\_fechaalta            &  22985\\\\\n",
       "\tMaster\\_mconsumototal & Master\\_mconsumototal        & 145128\\\\\n",
       "\tMaster\\_cconsumos & Master\\_cconsumos            & 145128\\\\\n",
       "\tMaster\\_cadelantosefectivo & Master\\_cadelantosefectivo   & 145128\\\\\n",
       "\tMaster\\_mpagominimo & Master\\_mpagominimo          &  22985\\\\\n",
       "\tVisa\\_delinquency & Visa\\_delinquency            &  10194\\\\\n",
       "\tVisa\\_status & Visa\\_status                 &  10194\\\\\n",
       "\tVisa\\_mfinanciacion\\_limite & Visa\\_mfinanciacion\\_limite   &  10194\\\\\n",
       "\tVisa\\_Fvencimiento & Visa\\_Fvencimiento           &  10194\\\\\n",
       "\tVisa\\_Finiciomora & Visa\\_Finiciomora            & 232362\\\\\n",
       "\tVisa\\_msaldototal & Visa\\_msaldototal            &  10194\\\\\n",
       "\tVisa\\_msaldopesos & Visa\\_msaldopesos            &  10194\\\\\n",
       "\tVisa\\_msaldodolares & Visa\\_msaldodolares          &  10194\\\\\n",
       "\tVisa\\_mconsumospesos & Visa\\_mconsumospesos         &  33272\\\\\n",
       "\tVisa\\_mconsumosdolares & Visa\\_mconsumosdolares       &  33272\\\\\n",
       "\tVisa\\_mlimitecompra & Visa\\_mlimitecompra          &  10194\\\\\n",
       "\tVisa\\_madelantopesos & Visa\\_madelantopesos         &  33272\\\\\n",
       "\tVisa\\_madelantodolares & Visa\\_madelantodolares       &  33272\\\\\n",
       "\tVisa\\_fultimo\\_cierre & Visa\\_fultimo\\_cierre         &  10356\\\\\n",
       "\tVisa\\_mpagado & Visa\\_mpagado                &  10194\\\\\n",
       "\tVisa\\_mpagospesos & Visa\\_mpagospesos            &  33272\\\\\n",
       "\tVisa\\_mpagosdolares & Visa\\_mpagosdolares          &  33272\\\\\n",
       "\tVisa\\_fechaalta & Visa\\_fechaalta              &  10194\\\\\n",
       "\tVisa\\_mconsumototal & Visa\\_mconsumototal          &  33272\\\\\n",
       "\tVisa\\_cconsumos & Visa\\_cconsumos              &  33272\\\\\n",
       "\tVisa\\_cadelantosefectivo & Visa\\_cadelantosefectivo     &  33272\\\\\n",
       "\tVisa\\_mpagominimo & Visa\\_mpagominimo            &  10194\\\\\n",
       "\\end{tabular}\n"
      ],
      "text/markdown": [
       "\n",
       "A data.frame: 46 × 2\n",
       "\n",
       "| <!--/--> | Variable &lt;chr&gt; | Count &lt;int&gt; |\n",
       "|---|---|---|\n",
       "| mtarjeta_visa_descuentos | mtarjeta_visa_descuentos    |   4320 |\n",
       "| mtarjeta_master_descuentos | mtarjeta_master_descuentos  |   2251 |\n",
       "| Master_delinquency | Master_delinquency          |  22985 |\n",
       "| Master_status | Master_status               |  22985 |\n",
       "| Master_mfinanciacion_limite | Master_mfinanciacion_limite |  22985 |\n",
       "| Master_Fvencimiento | Master_Fvencimiento         |  22985 |\n",
       "| Master_Finiciomora | Master_Finiciomora          | 237642 |\n",
       "| Master_msaldototal | Master_msaldototal          |  22985 |\n",
       "| Master_msaldopesos | Master_msaldopesos          |  22985 |\n",
       "| Master_msaldodolares | Master_msaldodolares        |  22985 |\n",
       "| Master_mconsumospesos | Master_mconsumospesos       | 145128 |\n",
       "| Master_mconsumosdolares | Master_mconsumosdolares     | 145128 |\n",
       "| Master_mlimitecompra | Master_mlimitecompra        |  22985 |\n",
       "| Master_madelantopesos | Master_madelantopesos       | 145128 |\n",
       "| Master_madelantodolares | Master_madelantodolares     | 145128 |\n",
       "| Master_fultimo_cierre | Master_fultimo_cierre       |  23236 |\n",
       "| Master_mpagado | Master_mpagado              |  22985 |\n",
       "| Master_mpagospesos | Master_mpagospesos          | 145128 |\n",
       "| Master_mpagosdolares | Master_mpagosdolares        | 145128 |\n",
       "| Master_fechaalta | Master_fechaalta            |  22985 |\n",
       "| Master_mconsumototal | Master_mconsumototal        | 145128 |\n",
       "| Master_cconsumos | Master_cconsumos            | 145128 |\n",
       "| Master_cadelantosefectivo | Master_cadelantosefectivo   | 145128 |\n",
       "| Master_mpagominimo | Master_mpagominimo          |  22985 |\n",
       "| Visa_delinquency | Visa_delinquency            |  10194 |\n",
       "| Visa_status | Visa_status                 |  10194 |\n",
       "| Visa_mfinanciacion_limite | Visa_mfinanciacion_limite   |  10194 |\n",
       "| Visa_Fvencimiento | Visa_Fvencimiento           |  10194 |\n",
       "| Visa_Finiciomora | Visa_Finiciomora            | 232362 |\n",
       "| Visa_msaldototal | Visa_msaldototal            |  10194 |\n",
       "| Visa_msaldopesos | Visa_msaldopesos            |  10194 |\n",
       "| Visa_msaldodolares | Visa_msaldodolares          |  10194 |\n",
       "| Visa_mconsumospesos | Visa_mconsumospesos         |  33272 |\n",
       "| Visa_mconsumosdolares | Visa_mconsumosdolares       |  33272 |\n",
       "| Visa_mlimitecompra | Visa_mlimitecompra          |  10194 |\n",
       "| Visa_madelantopesos | Visa_madelantopesos         |  33272 |\n",
       "| Visa_madelantodolares | Visa_madelantodolares       |  33272 |\n",
       "| Visa_fultimo_cierre | Visa_fultimo_cierre         |  10356 |\n",
       "| Visa_mpagado | Visa_mpagado                |  10194 |\n",
       "| Visa_mpagospesos | Visa_mpagospesos            |  33272 |\n",
       "| Visa_mpagosdolares | Visa_mpagosdolares          |  33272 |\n",
       "| Visa_fechaalta | Visa_fechaalta              |  10194 |\n",
       "| Visa_mconsumototal | Visa_mconsumototal          |  33272 |\n",
       "| Visa_cconsumos | Visa_cconsumos              |  33272 |\n",
       "| Visa_cadelantosefectivo | Visa_cadelantosefectivo     |  33272 |\n",
       "| Visa_mpagominimo | Visa_mpagominimo            |  10194 |\n",
       "\n"
      ],
      "text/plain": [
       "                            Variable                    Count \n",
       "mtarjeta_visa_descuentos    mtarjeta_visa_descuentos      4320\n",
       "mtarjeta_master_descuentos  mtarjeta_master_descuentos    2251\n",
       "Master_delinquency          Master_delinquency           22985\n",
       "Master_status               Master_status                22985\n",
       "Master_mfinanciacion_limite Master_mfinanciacion_limite  22985\n",
       "Master_Fvencimiento         Master_Fvencimiento          22985\n",
       "Master_Finiciomora          Master_Finiciomora          237642\n",
       "Master_msaldototal          Master_msaldototal           22985\n",
       "Master_msaldopesos          Master_msaldopesos           22985\n",
       "Master_msaldodolares        Master_msaldodolares         22985\n",
       "Master_mconsumospesos       Master_mconsumospesos       145128\n",
       "Master_mconsumosdolares     Master_mconsumosdolares     145128\n",
       "Master_mlimitecompra        Master_mlimitecompra         22985\n",
       "Master_madelantopesos       Master_madelantopesos       145128\n",
       "Master_madelantodolares     Master_madelantodolares     145128\n",
       "Master_fultimo_cierre       Master_fultimo_cierre        23236\n",
       "Master_mpagado              Master_mpagado               22985\n",
       "Master_mpagospesos          Master_mpagospesos          145128\n",
       "Master_mpagosdolares        Master_mpagosdolares        145128\n",
       "Master_fechaalta            Master_fechaalta             22985\n",
       "Master_mconsumototal        Master_mconsumototal        145128\n",
       "Master_cconsumos            Master_cconsumos            145128\n",
       "Master_cadelantosefectivo   Master_cadelantosefectivo   145128\n",
       "Master_mpagominimo          Master_mpagominimo           22985\n",
       "Visa_delinquency            Visa_delinquency             10194\n",
       "Visa_status                 Visa_status                  10194\n",
       "Visa_mfinanciacion_limite   Visa_mfinanciacion_limite    10194\n",
       "Visa_Fvencimiento           Visa_Fvencimiento            10194\n",
       "Visa_Finiciomora            Visa_Finiciomora            232362\n",
       "Visa_msaldototal            Visa_msaldototal             10194\n",
       "Visa_msaldopesos            Visa_msaldopesos             10194\n",
       "Visa_msaldodolares          Visa_msaldodolares           10194\n",
       "Visa_mconsumospesos         Visa_mconsumospesos          33272\n",
       "Visa_mconsumosdolares       Visa_mconsumosdolares        33272\n",
       "Visa_mlimitecompra          Visa_mlimitecompra           10194\n",
       "Visa_madelantopesos         Visa_madelantopesos          33272\n",
       "Visa_madelantodolares       Visa_madelantodolares        33272\n",
       "Visa_fultimo_cierre         Visa_fultimo_cierre          10356\n",
       "Visa_mpagado                Visa_mpagado                 10194\n",
       "Visa_mpagospesos            Visa_mpagospesos             33272\n",
       "Visa_mpagosdolares          Visa_mpagosdolares           33272\n",
       "Visa_fechaalta              Visa_fechaalta               10194\n",
       "Visa_mconsumototal          Visa_mconsumototal           33272\n",
       "Visa_cconsumos              Visa_cconsumos               33272\n",
       "Visa_cadelantosefectivo     Visa_cadelantosefectivo      33272\n",
       "Visa_mpagominimo            Visa_mpagominimo             10194"
      ]
     },
     "metadata": {},
     "output_type": "display_data"
    }
   ],
   "source": [
    "MP_plot_egdata$missings[MP_plot_egdata$missings$Count>0, ]"
   ]
  },
  {
   "cell_type": "code",
   "execution_count": 60,
   "id": "e5278b08-21b3-4b3b-8aff-44afa6f54794",
   "metadata": {},
   "outputs": [],
   "source": [
    "df.plot = MP_plot_egdata$missings[MP_plot_egdata$missings$Count>0, ]"
   ]
  },
  {
   "cell_type": "code",
   "execution_count": 64,
   "id": "d0aebdc9-9b53-41e9-bf37-3718d294716f",
   "metadata": {},
   "outputs": [
    {
     "data": {
      "image/png": "[encoded data removed]",
      "text/plain": [
       "plot without title"
      ]
     },
     "metadata": {
      "image/png": {
       "height": 420,
       "width": 420
      }
     },
     "output_type": "display_data"
    }
   ],
   "source": [
    "qplot(df.plot$Variable, df.plot$Count)\n",
    "#plot(Count~Variable, data = df.plot)"
   ]
  },
  {
   "cell_type": "code",
   "execution_count": 75,
   "id": "c1c29d6e-c0ff-4588-827e-fb9a6d4a2fa7",
   "metadata": {},
   "outputs": [],
   "source": [
    "# Clasificación\n",
    "df.plot$na.strato = ifelse(df.plot$Count > 200000, 'HIGH', \n",
    "                           ifelse(df.plot$Count > 100000, 'MEDIUM', \n",
    "                                  ifelse(df.plot$Count > 25000, 'LOW', 'LOWLOW')))"
   ]
  },
  {
   "cell_type": "code",
   "execution_count": 76,
   "id": "6e953422-b550-436c-82b3-b3b21e91cf6c",
   "metadata": {},
   "outputs": [
    {
     "data": {
      "text/html": [
       "<table class=\"dataframe\">\n",
       "<caption>A data.frame: 46 × 3</caption>\n",
       "<thead>\n",
       "\t<tr><th></th><th scope=col>Variable</th><th scope=col>Count</th><th scope=col>na.strato</th></tr>\n",
       "\t<tr><th></th><th scope=col>&lt;chr&gt;</th><th scope=col>&lt;int&gt;</th><th scope=col>&lt;chr&gt;</th></tr>\n",
       "</thead>\n",
       "<tbody>\n",
       "\t<tr><th scope=row>mtarjeta_visa_descuentos</th><td>mtarjeta_visa_descuentos   </td><td>  4320</td><td>LOWLOW</td></tr>\n",
       "\t<tr><th scope=row>mtarjeta_master_descuentos</th><td>mtarjeta_master_descuentos </td><td>  2251</td><td>LOWLOW</td></tr>\n",
       "\t<tr><th scope=row>Master_delinquency</th><td>Master_delinquency         </td><td> 22985</td><td>LOWLOW</td></tr>\n",
       "\t<tr><th scope=row>Master_status</th><td>Master_status              </td><td> 22985</td><td>LOWLOW</td></tr>\n",
       "\t<tr><th scope=row>Master_mfinanciacion_limite</th><td>Master_mfinanciacion_limite</td><td> 22985</td><td>LOWLOW</td></tr>\n",
       "\t<tr><th scope=row>Master_Fvencimiento</th><td>Master_Fvencimiento        </td><td> 22985</td><td>LOWLOW</td></tr>\n",
       "\t<tr><th scope=row>Master_Finiciomora</th><td>Master_Finiciomora         </td><td>237642</td><td>HIGH  </td></tr>\n",
       "\t<tr><th scope=row>Master_msaldototal</th><td>Master_msaldototal         </td><td> 22985</td><td>LOWLOW</td></tr>\n",
       "\t<tr><th scope=row>Master_msaldopesos</th><td>Master_msaldopesos         </td><td> 22985</td><td>LOWLOW</td></tr>\n",
       "\t<tr><th scope=row>Master_msaldodolares</th><td>Master_msaldodolares       </td><td> 22985</td><td>LOWLOW</td></tr>\n",
       "\t<tr><th scope=row>Master_mconsumospesos</th><td>Master_mconsumospesos      </td><td>145128</td><td>MEDIUM</td></tr>\n",
       "\t<tr><th scope=row>Master_mconsumosdolares</th><td>Master_mconsumosdolares    </td><td>145128</td><td>MEDIUM</td></tr>\n",
       "\t<tr><th scope=row>Master_mlimitecompra</th><td>Master_mlimitecompra       </td><td> 22985</td><td>LOWLOW</td></tr>\n",
       "\t<tr><th scope=row>Master_madelantopesos</th><td>Master_madelantopesos      </td><td>145128</td><td>MEDIUM</td></tr>\n",
       "\t<tr><th scope=row>Master_madelantodolares</th><td>Master_madelantodolares    </td><td>145128</td><td>MEDIUM</td></tr>\n",
       "\t<tr><th scope=row>Master_fultimo_cierre</th><td>Master_fultimo_cierre      </td><td> 23236</td><td>LOWLOW</td></tr>\n",
       "\t<tr><th scope=row>Master_mpagado</th><td>Master_mpagado             </td><td> 22985</td><td>LOWLOW</td></tr>\n",
       "\t<tr><th scope=row>Master_mpagospesos</th><td>Master_mpagospesos         </td><td>145128</td><td>MEDIUM</td></tr>\n",
       "\t<tr><th scope=row>Master_mpagosdolares</th><td>Master_mpagosdolares       </td><td>145128</td><td>MEDIUM</td></tr>\n",
       "\t<tr><th scope=row>Master_fechaalta</th><td>Master_fechaalta           </td><td> 22985</td><td>LOWLOW</td></tr>\n",
       "\t<tr><th scope=row>Master_mconsumototal</th><td>Master_mconsumototal       </td><td>145128</td><td>MEDIUM</td></tr>\n",
       "\t<tr><th scope=row>Master_cconsumos</th><td>Master_cconsumos           </td><td>145128</td><td>MEDIUM</td></tr>\n",
       "\t<tr><th scope=row>Master_cadelantosefectivo</th><td>Master_cadelantosefectivo  </td><td>145128</td><td>MEDIUM</td></tr>\n",
       "\t<tr><th scope=row>Master_mpagominimo</th><td>Master_mpagominimo         </td><td> 22985</td><td>LOWLOW</td></tr>\n",
       "\t<tr><th scope=row>Visa_delinquency</th><td>Visa_delinquency           </td><td> 10194</td><td>LOWLOW</td></tr>\n",
       "\t<tr><th scope=row>Visa_status</th><td>Visa_status                </td><td> 10194</td><td>LOWLOW</td></tr>\n",
       "\t<tr><th scope=row>Visa_mfinanciacion_limite</th><td>Visa_mfinanciacion_limite  </td><td> 10194</td><td>LOWLOW</td></tr>\n",
       "\t<tr><th scope=row>Visa_Fvencimiento</th><td>Visa_Fvencimiento          </td><td> 10194</td><td>LOWLOW</td></tr>\n",
       "\t<tr><th scope=row>Visa_Finiciomora</th><td>Visa_Finiciomora           </td><td>232362</td><td>HIGH  </td></tr>\n",
       "\t<tr><th scope=row>Visa_msaldototal</th><td>Visa_msaldototal           </td><td> 10194</td><td>LOWLOW</td></tr>\n",
       "\t<tr><th scope=row>Visa_msaldopesos</th><td>Visa_msaldopesos           </td><td> 10194</td><td>LOWLOW</td></tr>\n",
       "\t<tr><th scope=row>Visa_msaldodolares</th><td>Visa_msaldodolares         </td><td> 10194</td><td>LOWLOW</td></tr>\n",
       "\t<tr><th scope=row>Visa_mconsumospesos</th><td>Visa_mconsumospesos        </td><td> 33272</td><td>LOW   </td></tr>\n",
       "\t<tr><th scope=row>Visa_mconsumosdolares</th><td>Visa_mconsumosdolares      </td><td> 33272</td><td>LOW   </td></tr>\n",
       "\t<tr><th scope=row>Visa_mlimitecompra</th><td>Visa_mlimitecompra         </td><td> 10194</td><td>LOWLOW</td></tr>\n",
       "\t<tr><th scope=row>Visa_madelantopesos</th><td>Visa_madelantopesos        </td><td> 33272</td><td>LOW   </td></tr>\n",
       "\t<tr><th scope=row>Visa_madelantodolares</th><td>Visa_madelantodolares      </td><td> 33272</td><td>LOW   </td></tr>\n",
       "\t<tr><th scope=row>Visa_fultimo_cierre</th><td>Visa_fultimo_cierre        </td><td> 10356</td><td>LOWLOW</td></tr>\n",
       "\t<tr><th scope=row>Visa_mpagado</th><td>Visa_mpagado               </td><td> 10194</td><td>LOWLOW</td></tr>\n",
       "\t<tr><th scope=row>Visa_mpagospesos</th><td>Visa_mpagospesos           </td><td> 33272</td><td>LOW   </td></tr>\n",
       "\t<tr><th scope=row>Visa_mpagosdolares</th><td>Visa_mpagosdolares         </td><td> 33272</td><td>LOW   </td></tr>\n",
       "\t<tr><th scope=row>Visa_fechaalta</th><td>Visa_fechaalta             </td><td> 10194</td><td>LOWLOW</td></tr>\n",
       "\t<tr><th scope=row>Visa_mconsumototal</th><td>Visa_mconsumototal         </td><td> 33272</td><td>LOW   </td></tr>\n",
       "\t<tr><th scope=row>Visa_cconsumos</th><td>Visa_cconsumos             </td><td> 33272</td><td>LOW   </td></tr>\n",
       "\t<tr><th scope=row>Visa_cadelantosefectivo</th><td>Visa_cadelantosefectivo    </td><td> 33272</td><td>LOW   </td></tr>\n",
       "\t<tr><th scope=row>Visa_mpagominimo</th><td>Visa_mpagominimo           </td><td> 10194</td><td>LOWLOW</td></tr>\n",
       "</tbody>\n",
       "</table>\n"
      ],
      "text/latex": [
       "A data.frame: 46 × 3\n",
       "\\begin{tabular}{r|lll}\n",
       "  & Variable & Count & na.strato\\\\\n",
       "  & <chr> & <int> & <chr>\\\\\n",
       "\\hline\n",
       "\tmtarjeta\\_visa\\_descuentos & mtarjeta\\_visa\\_descuentos    &   4320 & LOWLOW\\\\\n",
       "\tmtarjeta\\_master\\_descuentos & mtarjeta\\_master\\_descuentos  &   2251 & LOWLOW\\\\\n",
       "\tMaster\\_delinquency & Master\\_delinquency          &  22985 & LOWLOW\\\\\n",
       "\tMaster\\_status & Master\\_status               &  22985 & LOWLOW\\\\\n",
       "\tMaster\\_mfinanciacion\\_limite & Master\\_mfinanciacion\\_limite &  22985 & LOWLOW\\\\\n",
       "\tMaster\\_Fvencimiento & Master\\_Fvencimiento         &  22985 & LOWLOW\\\\\n",
       "\tMaster\\_Finiciomora & Master\\_Finiciomora          & 237642 & HIGH  \\\\\n",
       "\tMaster\\_msaldototal & Master\\_msaldototal          &  22985 & LOWLOW\\\\\n",
       "\tMaster\\_msaldopesos & Master\\_msaldopesos          &  22985 & LOWLOW\\\\\n",
       "\tMaster\\_msaldodolares & Master\\_msaldodolares        &  22985 & LOWLOW\\\\\n",
       "\tMaster\\_mconsumospesos & Master\\_mconsumospesos       & 145128 & MEDIUM\\\\\n",
       "\tMaster\\_mconsumosdolares & Master\\_mconsumosdolares     & 145128 & MEDIUM\\\\\n",
       "\tMaster\\_mlimitecompra & Master\\_mlimitecompra        &  22985 & LOWLOW\\\\\n",
       "\tMaster\\_madelantopesos & Master\\_madelantopesos       & 145128 & MEDIUM\\\\\n",
       "\tMaster\\_madelantodolares & Master\\_madelantodolares     & 145128 & MEDIUM\\\\\n",
       "\tMaster\\_fultimo\\_cierre & Master\\_fultimo\\_cierre       &  23236 & LOWLOW\\\\\n",
       "\tMaster\\_mpagado & Master\\_mpagado              &  22985 & LOWLOW\\\\\n",
       "\tMaster\\_mpagospesos & Master\\_mpagospesos          & 145128 & MEDIUM\\\\\n",
       "\tMaster\\_mpagosdolares & Master\\_mpagosdolares        & 145128 & MEDIUM\\\\\n",
       "\tMaster\\_fechaalta & Master\\_fechaalta            &  22985 & LOWLOW\\\\\n",
       "\tMaster\\_mconsumototal & Master\\_mconsumototal        & 145128 & MEDIUM\\\\\n",
       "\tMaster\\_cconsumos & Master\\_cconsumos            & 145128 & MEDIUM\\\\\n",
       "\tMaster\\_cadelantosefectivo & Master\\_cadelantosefectivo   & 145128 & MEDIUM\\\\\n",
       "\tMaster\\_mpagominimo & Master\\_mpagominimo          &  22985 & LOWLOW\\\\\n",
       "\tVisa\\_delinquency & Visa\\_delinquency            &  10194 & LOWLOW\\\\\n",
       "\tVisa\\_status & Visa\\_status                 &  10194 & LOWLOW\\\\\n",
       "\tVisa\\_mfinanciacion\\_limite & Visa\\_mfinanciacion\\_limite   &  10194 & LOWLOW\\\\\n",
       "\tVisa\\_Fvencimiento & Visa\\_Fvencimiento           &  10194 & LOWLOW\\\\\n",
       "\tVisa\\_Finiciomora & Visa\\_Finiciomora            & 232362 & HIGH  \\\\\n",
       "\tVisa\\_msaldototal & Visa\\_msaldototal            &  10194 & LOWLOW\\\\\n",
       "\tVisa\\_msaldopesos & Visa\\_msaldopesos            &  10194 & LOWLOW\\\\\n",
       "\tVisa\\_msaldodolares & Visa\\_msaldodolares          &  10194 & LOWLOW\\\\\n",
       "\tVisa\\_mconsumospesos & Visa\\_mconsumospesos         &  33272 & LOW   \\\\\n",
       "\tVisa\\_mconsumosdolares & Visa\\_mconsumosdolares       &  33272 & LOW   \\\\\n",
       "\tVisa\\_mlimitecompra & Visa\\_mlimitecompra          &  10194 & LOWLOW\\\\\n",
       "\tVisa\\_madelantopesos & Visa\\_madelantopesos         &  33272 & LOW   \\\\\n",
       "\tVisa\\_madelantodolares & Visa\\_madelantodolares       &  33272 & LOW   \\\\\n",
       "\tVisa\\_fultimo\\_cierre & Visa\\_fultimo\\_cierre         &  10356 & LOWLOW\\\\\n",
       "\tVisa\\_mpagado & Visa\\_mpagado                &  10194 & LOWLOW\\\\\n",
       "\tVisa\\_mpagospesos & Visa\\_mpagospesos            &  33272 & LOW   \\\\\n",
       "\tVisa\\_mpagosdolares & Visa\\_mpagosdolares          &  33272 & LOW   \\\\\n",
       "\tVisa\\_fechaalta & Visa\\_fechaalta              &  10194 & LOWLOW\\\\\n",
       "\tVisa\\_mconsumototal & Visa\\_mconsumototal          &  33272 & LOW   \\\\\n",
       "\tVisa\\_cconsumos & Visa\\_cconsumos              &  33272 & LOW   \\\\\n",
       "\tVisa\\_cadelantosefectivo & Visa\\_cadelantosefectivo     &  33272 & LOW   \\\\\n",
       "\tVisa\\_mpagominimo & Visa\\_mpagominimo            &  10194 & LOWLOW\\\\\n",
       "\\end{tabular}\n"
      ],
      "text/markdown": [
       "\n",
       "A data.frame: 46 × 3\n",
       "\n",
       "| <!--/--> | Variable &lt;chr&gt; | Count &lt;int&gt; | na.strato &lt;chr&gt; |\n",
       "|---|---|---|---|\n",
       "| mtarjeta_visa_descuentos | mtarjeta_visa_descuentos    |   4320 | LOWLOW |\n",
       "| mtarjeta_master_descuentos | mtarjeta_master_descuentos  |   2251 | LOWLOW |\n",
       "| Master_delinquency | Master_delinquency          |  22985 | LOWLOW |\n",
       "| Master_status | Master_status               |  22985 | LOWLOW |\n",
       "| Master_mfinanciacion_limite | Master_mfinanciacion_limite |  22985 | LOWLOW |\n",
       "| Master_Fvencimiento | Master_Fvencimiento         |  22985 | LOWLOW |\n",
       "| Master_Finiciomora | Master_Finiciomora          | 237642 | HIGH   |\n",
       "| Master_msaldototal | Master_msaldototal          |  22985 | LOWLOW |\n",
       "| Master_msaldopesos | Master_msaldopesos          |  22985 | LOWLOW |\n",
       "| Master_msaldodolares | Master_msaldodolares        |  22985 | LOWLOW |\n",
       "| Master_mconsumospesos | Master_mconsumospesos       | 145128 | MEDIUM |\n",
       "| Master_mconsumosdolares | Master_mconsumosdolares     | 145128 | MEDIUM |\n",
       "| Master_mlimitecompra | Master_mlimitecompra        |  22985 | LOWLOW |\n",
       "| Master_madelantopesos | Master_madelantopesos       | 145128 | MEDIUM |\n",
       "| Master_madelantodolares | Master_madelantodolares     | 145128 | MEDIUM |\n",
       "| Master_fultimo_cierre | Master_fultimo_cierre       |  23236 | LOWLOW |\n",
       "| Master_mpagado | Master_mpagado              |  22985 | LOWLOW |\n",
       "| Master_mpagospesos | Master_mpagospesos          | 145128 | MEDIUM |\n",
       "| Master_mpagosdolares | Master_mpagosdolares        | 145128 | MEDIUM |\n",
       "| Master_fechaalta | Master_fechaalta            |  22985 | LOWLOW |\n",
       "| Master_mconsumototal | Master_mconsumototal        | 145128 | MEDIUM |\n",
       "| Master_cconsumos | Master_cconsumos            | 145128 | MEDIUM |\n",
       "| Master_cadelantosefectivo | Master_cadelantosefectivo   | 145128 | MEDIUM |\n",
       "| Master_mpagominimo | Master_mpagominimo          |  22985 | LOWLOW |\n",
       "| Visa_delinquency | Visa_delinquency            |  10194 | LOWLOW |\n",
       "| Visa_status | Visa_status                 |  10194 | LOWLOW |\n",
       "| Visa_mfinanciacion_limite | Visa_mfinanciacion_limite   |  10194 | LOWLOW |\n",
       "| Visa_Fvencimiento | Visa_Fvencimiento           |  10194 | LOWLOW |\n",
       "| Visa_Finiciomora | Visa_Finiciomora            | 232362 | HIGH   |\n",
       "| Visa_msaldototal | Visa_msaldototal            |  10194 | LOWLOW |\n",
       "| Visa_msaldopesos | Visa_msaldopesos            |  10194 | LOWLOW |\n",
       "| Visa_msaldodolares | Visa_msaldodolares          |  10194 | LOWLOW |\n",
       "| Visa_mconsumospesos | Visa_mconsumospesos         |  33272 | LOW    |\n",
       "| Visa_mconsumosdolares | Visa_mconsumosdolares       |  33272 | LOW    |\n",
       "| Visa_mlimitecompra | Visa_mlimitecompra          |  10194 | LOWLOW |\n",
       "| Visa_madelantopesos | Visa_madelantopesos         |  33272 | LOW    |\n",
       "| Visa_madelantodolares | Visa_madelantodolares       |  33272 | LOW    |\n",
       "| Visa_fultimo_cierre | Visa_fultimo_cierre         |  10356 | LOWLOW |\n",
       "| Visa_mpagado | Visa_mpagado                |  10194 | LOWLOW |\n",
       "| Visa_mpagospesos | Visa_mpagospesos            |  33272 | LOW    |\n",
       "| Visa_mpagosdolares | Visa_mpagosdolares          |  33272 | LOW    |\n",
       "| Visa_fechaalta | Visa_fechaalta              |  10194 | LOWLOW |\n",
       "| Visa_mconsumototal | Visa_mconsumototal          |  33272 | LOW    |\n",
       "| Visa_cconsumos | Visa_cconsumos              |  33272 | LOW    |\n",
       "| Visa_cadelantosefectivo | Visa_cadelantosefectivo     |  33272 | LOW    |\n",
       "| Visa_mpagominimo | Visa_mpagominimo            |  10194 | LOWLOW |\n",
       "\n"
      ],
      "text/plain": [
       "                            Variable                    Count  na.strato\n",
       "mtarjeta_visa_descuentos    mtarjeta_visa_descuentos      4320 LOWLOW   \n",
       "mtarjeta_master_descuentos  mtarjeta_master_descuentos    2251 LOWLOW   \n",
       "Master_delinquency          Master_delinquency           22985 LOWLOW   \n",
       "Master_status               Master_status                22985 LOWLOW   \n",
       "Master_mfinanciacion_limite Master_mfinanciacion_limite  22985 LOWLOW   \n",
       "Master_Fvencimiento         Master_Fvencimiento          22985 LOWLOW   \n",
       "Master_Finiciomora          Master_Finiciomora          237642 HIGH     \n",
       "Master_msaldototal          Master_msaldototal           22985 LOWLOW   \n",
       "Master_msaldopesos          Master_msaldopesos           22985 LOWLOW   \n",
       "Master_msaldodolares        Master_msaldodolares         22985 LOWLOW   \n",
       "Master_mconsumospesos       Master_mconsumospesos       145128 MEDIUM   \n",
       "Master_mconsumosdolares     Master_mconsumosdolares     145128 MEDIUM   \n",
       "Master_mlimitecompra        Master_mlimitecompra         22985 LOWLOW   \n",
       "Master_madelantopesos       Master_madelantopesos       145128 MEDIUM   \n",
       "Master_madelantodolares     Master_madelantodolares     145128 MEDIUM   \n",
       "Master_fultimo_cierre       Master_fultimo_cierre        23236 LOWLOW   \n",
       "Master_mpagado              Master_mpagado               22985 LOWLOW   \n",
       "Master_mpagospesos          Master_mpagospesos          145128 MEDIUM   \n",
       "Master_mpagosdolares        Master_mpagosdolares        145128 MEDIUM   \n",
       "Master_fechaalta            Master_fechaalta             22985 LOWLOW   \n",
       "Master_mconsumototal        Master_mconsumototal        145128 MEDIUM   \n",
       "Master_cconsumos            Master_cconsumos            145128 MEDIUM   \n",
       "Master_cadelantosefectivo   Master_cadelantosefectivo   145128 MEDIUM   \n",
       "Master_mpagominimo          Master_mpagominimo           22985 LOWLOW   \n",
       "Visa_delinquency            Visa_delinquency             10194 LOWLOW   \n",
       "Visa_status                 Visa_status                  10194 LOWLOW   \n",
       "Visa_mfinanciacion_limite   Visa_mfinanciacion_limite    10194 LOWLOW   \n",
       "Visa_Fvencimiento           Visa_Fvencimiento            10194 LOWLOW   \n",
       "Visa_Finiciomora            Visa_Finiciomora            232362 HIGH     \n",
       "Visa_msaldototal            Visa_msaldototal             10194 LOWLOW   \n",
       "Visa_msaldopesos            Visa_msaldopesos             10194 LOWLOW   \n",
       "Visa_msaldodolares          Visa_msaldodolares           10194 LOWLOW   \n",
       "Visa_mconsumospesos         Visa_mconsumospesos          33272 LOW      \n",
       "Visa_mconsumosdolares       Visa_mconsumosdolares        33272 LOW      \n",
       "Visa_mlimitecompra          Visa_mlimitecompra           10194 LOWLOW   \n",
       "Visa_madelantopesos         Visa_madelantopesos          33272 LOW      \n",
       "Visa_madelantodolares       Visa_madelantodolares        33272 LOW      \n",
       "Visa_fultimo_cierre         Visa_fultimo_cierre          10356 LOWLOW   \n",
       "Visa_mpagado                Visa_mpagado                 10194 LOWLOW   \n",
       "Visa_mpagospesos            Visa_mpagospesos             33272 LOW      \n",
       "Visa_mpagosdolares          Visa_mpagosdolares           33272 LOW      \n",
       "Visa_fechaalta              Visa_fechaalta               10194 LOWLOW   \n",
       "Visa_mconsumototal          Visa_mconsumototal           33272 LOW      \n",
       "Visa_cconsumos              Visa_cconsumos               33272 LOW      \n",
       "Visa_cadelantosefectivo     Visa_cadelantosefectivo      33272 LOW      \n",
       "Visa_mpagominimo            Visa_mpagominimo             10194 LOWLOW   "
      ]
     },
     "metadata": {},
     "output_type": "display_data"
    }
   ],
   "source": [
    "df.plot"
   ]
  },
  {
   "cell_type": "code",
   "execution_count": null,
   "id": "2645edc9-d8e8-406e-a592-cf4b024ae424",
   "metadata": {},
   "outputs": [],
   "source": []
  },
  {
   "cell_type": "code",
   "execution_count": null,
   "id": "58374e99-11c4-4b73-b11a-4f97b7b17b53",
   "metadata": {},
   "outputs": [],
   "source": []
  },
  {
   "cell_type": "code",
   "execution_count": null,
   "id": "8e7a4d3f-3612-49f6-90d1-5c62f67832af",
   "metadata": {},
   "outputs": [],
   "source": []
  }
 ],
 "metadata": {
  "kernelspec": {
   "display_name": "R",
   "language": "R",
   "name": "ir"
  },
  "language_info": {
   "codemirror_mode": "r",
   "file_extension": ".r",
   "mimetype": "text/x-r-source",
   "name": "R",
   "pygments_lexer": "r",
   "version": "4.1.0"
  }
 },
 "nbformat": 4,
 "nbformat_minor": 5
}
